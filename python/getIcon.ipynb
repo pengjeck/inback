{
 "cells": [
  {
   "cell_type": "code",
   "execution_count": 15,
   "metadata": {
    "collapsed": true
   },
   "outputs": [],
   "source": [
    "import os\n",
    "from PIL import Image"
   ]
  },
  {
   "cell_type": "code",
   "execution_count": 16,
   "metadata": {
    "collapsed": true
   },
   "outputs": [],
   "source": [
    "num = 3\n",
    "img_path = '/home/pj/pro/android/inBack/src/components/login/images/loginButton.png'.format(num)\n",
    "img = Image.open(img_path)"
   ]
  },
  {
   "cell_type": "code",
   "execution_count": 17,
   "metadata": {},
   "outputs": [
    {
     "data": {
      "text/plain": [
       "(750, 1334)"
      ]
     },
     "execution_count": 17,
     "metadata": {},
     "output_type": "execute_result"
    }
   ],
   "source": [
    "img.size"
   ]
  },
  {
   "cell_type": "code",
   "execution_count": 22,
   "metadata": {
    "collapsed": true
   },
   "outputs": [],
   "source": [
    "out = img.crop((56, 980, 694, 1089))\n",
    "with open('{}.png'.format(num), 'wb') as f:\n",
    "    out.save(f)"
   ]
  },
  {
   "cell_type": "code",
   "execution_count": 14,
   "metadata": {
    "collapsed": true
   },
   "outputs": [],
   "source": [
    "# resize ==> \n",
    "import os\n",
    "base_path = '/home/pj/pro/android/inBack/src/components/catalog/images/'\n",
    "out_path = os.path.join(base_path, 're')\n",
    "if not os.path.exists(out_path):\n",
    "    os.mkdir(out_path)\n",
    "path = '/home/pj/pro/android/inBack/src/components/catalog/images/{}.png'\n",
    "\n",
    "for i in range(4):\n",
    "    im_path = path.format(i + 2)\n",
    "    im = Image.open(im_path)\n",
    "    out = im.resize((330, 248))\n",
    "    with open(os.path.join(out_path, '{}.png'.format(i + 2)), 'wb') as f:\n",
    "        out.save(f)"
   ]
  },
  {
   "cell_type": "code",
   "execution_count": 27,
   "metadata": {},
   "outputs": [],
   "source": [
    "# crop \n",
    "img_path_1 = '/home/pj/pro/android/inBack/src/components/register/images/accountInfo.png'\n",
    "img_path_2 = '/home/pj/pro/android/inBack/src/components/register/images/adultInfo.png'\n",
    "img_path_3 = '/home/pj/pro/android/inBack/src/components/register/images/childInfo.png'\n",
    "\n",
    "## TODO: fill\n",
    "size1 = (43, 750, 704, 878)\n",
    "size2 = (43, 432, 704, 560)\n",
    "size3 = (43, 593, 704, 721)\n",
    "\n",
    "datas = [(img_path_1, size1), (img_path_2, size2), (img_path_3, size3)]\n",
    "img = Image.open(img_path)\n",
    "\n",
    "for (i, (path, size)) in enumerate(datas):\n",
    "    im = Image.open(path)\n",
    "    out  = im.crop(size)\n",
    "    with open(str(i) + '.png', 'wb') as f:\n",
    "        out.save(f)\n"
   ]
  },
  {
   "cell_type": "code",
   "execution_count": null,
   "metadata": {
    "collapsed": true
   },
   "outputs": [],
   "source": []
  }
 ],
 "metadata": {
  "anaconda-cloud": {},
  "kernelspec": {
   "display_name": "Python 3",
   "language": "python",
   "name": "python3"
  },
  "language_info": {
   "codemirror_mode": {
    "name": "ipython",
    "version": 3
   },
   "file_extension": ".py",
   "mimetype": "text/x-python",
   "name": "python",
   "nbconvert_exporter": "python",
   "pygments_lexer": "ipython3",
   "version": "3.6.0"
  }
 },
 "nbformat": 4,
 "nbformat_minor": 1
}
