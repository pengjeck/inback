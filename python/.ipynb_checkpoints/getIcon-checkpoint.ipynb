{
 "cells": [
  {
   "cell_type": "code",
   "execution_count": 15,
   "metadata": {
    "collapsed": true
   },
   "outputs": [],
   "source": [
    "import os\n",
    "from PIL import Image"
   ]
  },
  {
   "cell_type": "code",
   "execution_count": 16,
   "metadata": {
    "collapsed": true
   },
   "outputs": [],
   "source": [
    "num = 3\n",
    "img_path = '/home/pj/pro/android/inBack/src/components/login/images/loginButton.png'.format(num)\n",
    "img = Image.open(img_path)"
   ]
  },
  {
   "cell_type": "code",
   "execution_count": 17,
   "metadata": {},
   "outputs": [
    {
     "data": {
      "text/plain": [
       "(750, 1334)"
      ]
     },
     "execution_count": 17,
     "metadata": {},
     "output_type": "execute_result"
    }
   ],
   "source": [
    "img.size"
   ]
  },
  {
   "cell_type": "code",
   "execution_count": 22,
   "metadata": {
    "collapsed": true
   },
   "outputs": [],
   "source": [
    "out = img.crop((56, 980, 694, 1089))\n",
    "with open('{}.png'.format(num), 'wb') as f:\n",
    "    out.save(f)"
   ]
  },
  {
   "cell_type": "code",
   "execution_count": 14,
   "metadata": {
    "collapsed": true
   },
   "outputs": [],
   "source": [
    "# resize ==> \n",
    "import os\n",
    "base_path = '/home/pj/pro/android/inBack/src/components/catalog/images/'\n",
    "out_path = os.path.join(base_path, 're')\n",
    "if not os.path.exists(out_path):\n",
    "    os.mkdir(out_path)\n",
    "path = '/home/pj/pro/android/inBack/src/components/catalog/images/{}.png'\n",
    "\n",
    "for i in range(4):\n",
    "    im_path = path.format(i + 2)\n",
    "    im = Image.open(im_path)\n",
    "    out = im.resize((330, 248))\n",
    "    with open(os.path.join(out_path, '{}.png'.format(i + 2)), 'wb') as f:\n",
    "        out.save(f)"
   ]
  },
  {
   "cell_type": "code",
   "execution_count": null,
   "metadata": {
    "collapsed": true
   },
   "outputs": [],
   "source": [
    "img_path_1 = '/home/pj/pro/android/inBack/src/components/register/images/accountInfo.png'\n",
    "img_path_2 = ''\n",
    "img = Image.open(img_path)\n"
   ]
  }
 ],
 "metadata": {
  "anaconda-cloud": {},
  "kernelspec": {
   "display_name": "Python 3",
   "language": "python",
   "name": "python3"
  },
  "language_info": {
   "codemirror_mode": {
    "name": "ipython",
    "version": 3
   },
   "file_extension": ".py",
   "mimetype": "text/x-python",
   "name": "python",
   "nbconvert_exporter": "python",
   "pygments_lexer": "ipython3",
   "version": "3.6.0"
  }
 },
 "nbformat": 4,
 "nbformat_minor": 1
}
